{
 "cells": [
  {
   "cell_type": "code",
   "execution_count": 21,
   "metadata": {},
   "outputs": [],
   "source": [
    "import librosa\n",
    "import soundfile\n",
    "import os,glob2,pickle\n",
    "import numpy as np"
   ]
  },
  {
   "cell_type": "code",
   "execution_count": 22,
   "metadata": {},
   "outputs": [],
   "source": [
    "from sklearn.model_selection import train_test_split\n",
    "from sklearn.neural_network import MLPClassifier\n",
    "from sklearn.metrics import accuracy_score"
   ]
  },
  {
   "cell_type": "code",
   "execution_count": 23,
   "metadata": {},
   "outputs": [],
   "source": [
    "def extract_feature(file_name,mfcc,chroma,mel):\n",
    "    with soundfile.SoundFile(file_name) as sound_file:\n",
    "       #X=sound_file.read(dtype=\"float32\") \n",
    "      # sample_rate=sound_file.samplerate\n",
    "       X,sample_rate=librosa.load(file_name)\n",
    "       if chroma:\n",
    "         stft=np.abs(librosa.stft(X))\n",
    "       result=np.array([])  \n",
    "       if mfcc:\n",
    "            mfccs=np.mean(librosa.feature.mfcc(y=X,sr=sample_rate,n_mfcc=40).T,axis=0)\n",
    "            result=np.hstack((result,mfccs))\n",
    "       if chroma:\n",
    "        chroma=np.mean(librosa.feature.chroma_stft(S=stft,sr=sample_rate).T,axis=0)\n",
    "        result=np.hstack((result,mfccs))\n",
    "        \n",
    "       if mel:\n",
    "         mel=np.mean(librosa.feature.melspectrogram(X,sr=sample_rate).T,axis=0)\n",
    "         result=np.hstack((result,mel))   \n",
    "    return result   "
   ]
  },
  {
   "cell_type": "code",
   "execution_count": 24,
   "metadata": {},
   "outputs": [],
   "source": [
    "emotions={\n",
    "    '01':'neutral',\n",
    "    '02':'calm',\n",
    "    '03':'happy',\n",
    "    '04':'sad',\n",
    "    '05':'angry',\n",
    "    '06':'fearful',\n",
    "    '07':'disgust',\n",
    "    '08':'surprised'\n",
    "}\n"
   ]
  },
  {
   "cell_type": "code",
   "execution_count": 25,
   "metadata": {},
   "outputs": [
    {
     "name": "stdout",
     "output_type": "stream",
     "text": [
      "['calm', 'happy', 'fearful', 'disgust']\n"
     ]
    }
   ],
   "source": [
    "#Emotions to observe\n",
    "observed_emotions=['calm','happy','fearful','disgust']\n",
    "print(observed_emotions)"
   ]
  },
  {
   "cell_type": "code",
   "execution_count": 26,
   "metadata": {},
   "outputs": [
    {
     "name": "stdout",
     "output_type": "stream",
     "text": [
      "(537, 231)\n",
      "Features extracted: 208\n",
      "Accuracy: 54.98%\n",
      "['disgust' 'calm' 'disgust' 'calm' 'disgust' 'disgust' 'calm' 'happy'\n",
      " 'disgust' 'disgust' 'happy' 'fearful' 'fearful' 'happy' 'disgust'\n",
      " 'fearful' 'calm' 'disgust' 'disgust' 'calm' 'disgust' 'disgust' 'disgust'\n",
      " 'calm' 'happy' 'disgust' 'calm' 'happy' 'calm' 'fearful' 'happy'\n",
      " 'disgust' 'disgust' 'calm' 'disgust' 'disgust' 'calm' 'fearful' 'calm'\n",
      " 'disgust' 'fearful' 'disgust' 'disgust' 'calm' 'disgust' 'disgust'\n",
      " 'disgust' 'calm' 'disgust' 'happy' 'fearful' 'fearful' 'disgust'\n",
      " 'fearful' 'disgust' 'calm' 'disgust' 'disgust' 'calm' 'calm' 'disgust'\n",
      " 'calm' 'disgust' 'disgust' 'disgust' 'disgust' 'disgust' 'disgust'\n",
      " 'disgust' 'happy' 'fearful' 'fearful' 'fearful' 'fearful' 'fearful'\n",
      " 'disgust' 'fearful' 'happy' 'calm' 'fearful' 'calm' 'calm' 'disgust'\n",
      " 'calm' 'disgust' 'calm' 'disgust' 'fearful' 'disgust' 'disgust' 'disgust'\n",
      " 'disgust' 'disgust' 'fearful' 'disgust' 'fearful' 'calm' 'calm' 'calm'\n",
      " 'calm' 'fearful' 'calm' 'disgust' 'disgust' 'disgust' 'calm' 'disgust'\n",
      " 'disgust' 'disgust' 'happy' 'calm' 'calm' 'calm' 'disgust' 'disgust'\n",
      " 'disgust' 'disgust' 'happy' 'calm' 'disgust' 'disgust' 'disgust'\n",
      " 'disgust' 'disgust' 'fearful' 'disgust' 'disgust' 'disgust' 'calm'\n",
      " 'disgust' 'fearful' 'disgust' 'happy' 'disgust' 'disgust' 'disgust'\n",
      " 'fearful' 'disgust' 'disgust' 'disgust' 'calm' 'calm' 'disgust' 'fearful'\n",
      " 'happy' 'fearful' 'disgust' 'disgust' 'fearful' 'calm' 'calm' 'disgust'\n",
      " 'disgust' 'disgust' 'happy' 'disgust' 'calm' 'disgust' 'disgust'\n",
      " 'disgust' 'disgust' 'calm' 'calm' 'disgust' 'disgust' 'calm' 'fearful'\n",
      " 'fearful' 'calm' 'fearful' 'happy' 'fearful' 'disgust' 'disgust' 'calm'\n",
      " 'fearful' 'calm' 'fearful' 'disgust' 'disgust' 'disgust' 'fearful'\n",
      " 'disgust' 'calm' 'disgust' 'fearful' 'disgust' 'fearful' 'disgust'\n",
      " 'disgust' 'disgust' 'calm' 'fearful' 'fearful' 'calm' 'disgust' 'disgust'\n",
      " 'disgust' 'disgust' 'calm' 'calm' 'fearful' 'calm' 'disgust' 'fearful'\n",
      " 'disgust' 'fearful' 'disgust' 'happy' 'disgust' 'calm' 'calm' 'disgust'\n",
      " 'disgust' 'disgust' 'disgust' 'calm' 'fearful' 'disgust' 'disgust' 'calm'\n",
      " 'calm' 'happy' 'fearful' 'calm' 'fearful' 'fearful' 'disgust' 'disgust'\n",
      " 'disgust' 'disgust']\n"
     ]
    }
   ],
   "source": [
    "#load the data and extract features for each sound file\n",
    "def load_data(test_size=0.2):\n",
    "    x,y=[],[]\n",
    "    for file in glob2.glob(\"Actor_*\\\\*.wav\"):\n",
    "       file_name=os.path.basename(file) \n",
    "       emotion=emotions[file_name.split(\"-\")[2]]\n",
    "       if emotion not in observed_emotions:\n",
    "        continue;\n",
    "       feature=extract_feature(file,mfcc=True,chroma=True,mel=True) \n",
    "       x.append(feature)\n",
    "       y.append(emotion)\n",
    "    return train_test_split(np.array(x),y,test_size=test_size,random_state=9)\n",
    "\n",
    "x_train,x_test,y_train,y_test=load_data(test_size=0.2)\n",
    "\n",
    "#DataFlair - Get the shape of the training and testing datasets\n",
    "print((x_train.shape[0], x_test.shape[0]))\n",
    "\n",
    "#DataFlair - Get the number of features extracted\n",
    "print(f'Features extracted: {x_train.shape[1]}')\n",
    "\n",
    "#DataFlair - Initialize the Multi Layer Perceptron Classifier\n",
    "model=MLPClassifier(alpha=0.01, batch_size=256, epsilon=1e-08, hidden_layer_sizes=(300,), learning_rate='adaptive', max_iter=500\n",
    "                   )\n",
    "#DataFlair - Train the model\n",
    "model.fit(x_train,y_train)\n",
    "\n",
    "#DataFlair - Calculate the accuracy of our model\n",
    "y_pred=model.predict(x_test)\n",
    "accuracy=accuracy_score(y_true=y_test, y_pred=y_pred)\n",
    "\n",
    "#DataFlair - Print the accuracy\n",
    "print(\"Accuracy: {:.2f}%\".format(accuracy*100))\n",
    "print(y_pred)\n",
    "\n",
    "    "
   ]
  },
  {
   "cell_type": "code",
   "execution_count": null,
   "metadata": {},
   "outputs": [],
   "source": []
  },
  {
   "cell_type": "code",
   "execution_count": null,
   "metadata": {},
   "outputs": [],
   "source": []
  }
 ],
 "metadata": {
  "kernelspec": {
   "display_name": "Python 3 (ipykernel)",
   "language": "python",
   "name": "python3"
  },
  "language_info": {
   "codemirror_mode": {
    "name": "ipython",
    "version": 3
   },
   "file_extension": ".py",
   "mimetype": "text/x-python",
   "name": "python",
   "nbconvert_exporter": "python",
   "pygments_lexer": "ipython3",
   "version": "3.9.12"
  }
 },
 "nbformat": 4,
 "nbformat_minor": 4
}
