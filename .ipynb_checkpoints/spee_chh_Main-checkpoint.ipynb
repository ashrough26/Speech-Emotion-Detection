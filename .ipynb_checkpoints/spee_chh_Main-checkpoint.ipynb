{
 "cells": [
  {
   "cell_type": "code",
   "execution_count": 16,
   "metadata": {},
   "outputs": [],
   "source": [
    "#!/usr/bin/env python\n",
    "# coding: utf-8\n",
    "import librosa\n",
    "import soundfile, time\n",
    "import os,glob2,pickle\n",
    "import numpy as np\n",
    "from sklearn.model_selection import train_test_split\n",
    "from sklearn.neural_network import MLPClassifier\n",
    "from sklearn.metrics import accuracy_score"
   ]
  },
  {
   "cell_type": "code",
   "execution_count": 17,
   "metadata": {},
   "outputs": [],
   "source": [
    "def extract_feature(file_name,mfcc,chroma,mel):\n",
    "    with soundfile.SoundFile(file_name) as sound_file:\n",
    "       #X=sound_file.read(dtype=\"float32\") \n",
    "      # sample_rate=sound_file.samplerate\n",
    "       X,sample_rate=librosa.load(file_name)\n",
    "       if chroma:\n",
    "         stft=np.abs(librosa.stft(X))\n",
    "       result=np.array([])  \n",
    "       if mfcc:\n",
    "            mfccs=np.mean(librosa.feature.mfcc(y=X,sr=sample_rate,n_mfcc=40).T,axis=0)\n",
    "            result=np.hstack((result,mfccs))\n",
    "       if chroma:\n",
    "        chroma=np.mean(librosa.feature.chroma_stft(S=stft,sr=sample_rate).T,axis=0)\n",
    "        result=np.hstack((result,mfccs))\n",
    "        \n",
    "       if mel:\n",
    "         mel=np.mean(librosa.feature.melspectrogram(X,sr=sample_rate).T,axis=0)\n",
    "         result=np.hstack((result,mel))   \n",
    "    return result   \n"
   ]
  },
  {
   "cell_type": "code",
   "execution_count": 18,
   "metadata": {},
   "outputs": [],
   "source": [
    "emotions={\n",
    "    '01':'neutral',\n",
    "    '02':'calm',\n",
    "    '03':'happy',\n",
    "    '04':'sad',\n",
    "    '05':'angry',\n",
    "    '06':'fearful',\n",
    "    '07':'disgust',\n",
    "    '08':'surprised'\n",
    "}\n"
   ]
  },
  {
   "cell_type": "code",
   "execution_count": 19,
   "metadata": {},
   "outputs": [],
   "source": [
    "#Emotions to observe\n",
    "observed_emotions=['calm','happy','fearful','disgust']"
   ]
  },
  {
   "cell_type": "code",
   "execution_count": 20,
   "metadata": {},
   "outputs": [],
   "source": [
    "#load the data and extract features for each sound file\n",
    "\n",
    "def load_data(test_size=0.2):\n",
    "    x,y=[],[]\n",
    "    for file in glob2.glob(\"Actor_*\\\\*.wav\"):\n",
    "       file_name=os.path.basename(file)\n",
    "       #print(file_name)\n",
    "       emotion=emotions[file_name.split(\"-\")[2]]\n",
    "       if emotion not in observed_emotions:\n",
    "        continue;\n",
    "       feature=extract_feature(file,mfcc=True,chroma=True,mel=True) \n",
    "       x.append(feature)\n",
    "       y.append(emotion)\n",
    "    return train_test_split(np.array(x),y,test_size=test_size,random_state=9)"
   ]
  },
  {
   "cell_type": "code",
   "execution_count": 21,
   "metadata": {},
   "outputs": [
    {
     "name": "stdout",
     "output_type": "stream",
     "text": [
      "[[-5.49412720e+02  4.11352234e+01 -1.82077599e+01 ...  2.17354958e-04\n",
      "   6.69023211e-05  4.12730560e-06]\n",
      " [-8.14720215e+02  3.59356117e+01  2.99941564e+00 ...  8.66888513e-06\n",
      "   2.94455776e-06  5.59722423e-07]\n",
      " [-6.02353760e+02  3.36177559e+01 -9.17287159e+00 ...  2.28791614e-04\n",
      "   7.47464655e-05  6.81711344e-06]\n",
      " ...\n",
      " [-5.61565369e+02  1.80052662e+01 -6.92281151e+00 ...  7.18817057e-04\n",
      "   2.83276080e-04  2.72804136e-05]\n",
      " [-5.62926941e+02  5.00803680e+01  9.65562820e+00 ...  3.77404591e-04\n",
      "   1.25069506e-04  5.78363051e-06]\n",
      " [-5.13774902e+02  4.00039825e+01 -1.16284018e+01 ...  2.20184471e-03\n",
      "   4.92622785e-04  2.00791092e-05]]\n",
      "[[-6.14440796e+02  7.08005142e+01 -1.00916243e+01 ...  5.55580755e-06\n",
      "   2.06599134e-06  1.71611404e-07]\n",
      " [-8.02101562e+02  6.37066460e+01  2.09276733e+01 ...  1.92483481e-06\n",
      "   7.57875455e-07  5.12296765e-08]\n",
      " [-5.78982849e+02  6.57749634e+01 -7.35549021e+00 ...  1.39221243e-04\n",
      "   6.10607385e-05  4.66058464e-06]\n",
      " ...\n",
      " [-6.42163086e+02  5.43501205e+01  2.81072927e+00 ...  2.20709117e-04\n",
      "   4.19005191e-05  1.40820418e-06]\n",
      " [-4.72316467e+02  4.38073769e+01 -1.54880848e+01 ...  9.30903945e-04\n",
      "   2.96073355e-04  1.67042599e-05]\n",
      " [-5.14927307e+02  4.34851303e+01  5.44883966e+00 ...  1.30022841e-03\n",
      "   3.72928829e-04  1.97424852e-05]]\n",
      "['disgust', 'calm', 'disgust', 'disgust', 'disgust', 'disgust', 'calm', 'happy', 'fearful', 'disgust', 'happy', 'fearful', 'disgust', 'fearful', 'happy', 'disgust', 'disgust', 'calm', 'happy', 'fearful', 'calm', 'disgust', 'happy', 'disgust', 'disgust', 'disgust', 'fearful', 'calm', 'fearful', 'calm', 'calm', 'fearful', 'happy', 'fearful', 'happy', 'happy', 'happy', 'calm', 'disgust', 'happy', 'fearful', 'fearful', 'calm', 'fearful', 'disgust', 'fearful', 'fearful', 'fearful', 'calm', 'happy', 'happy', 'disgust', 'calm', 'disgust', 'fearful', 'happy', 'disgust', 'happy', 'calm', 'fearful', 'calm', 'calm', 'disgust', 'happy', 'disgust', 'calm', 'disgust', 'fearful', 'happy', 'disgust', 'fearful', 'fearful', 'disgust', 'happy', 'fearful', 'calm', 'happy', 'happy', 'fearful', 'calm', 'disgust', 'happy', 'fearful', 'fearful', 'fearful', 'disgust', 'calm', 'happy', 'calm', 'disgust', 'calm', 'happy', 'disgust', 'disgust', 'happy', 'disgust', 'happy', 'fearful', 'calm', 'disgust', 'calm', 'calm', 'fearful', 'calm', 'fearful', 'happy', 'fearful', 'fearful', 'happy', 'calm', 'happy', 'calm', 'happy', 'fearful', 'calm', 'happy', 'disgust', 'happy', 'calm', 'fearful', 'fearful', 'calm', 'calm', 'happy', 'fearful', 'disgust', 'disgust', 'disgust', 'happy', 'disgust', 'fearful', 'calm', 'happy', 'happy', 'fearful', 'disgust', 'calm', 'fearful', 'happy', 'calm', 'disgust', 'disgust', 'happy', 'calm', 'disgust', 'fearful', 'disgust', 'fearful', 'disgust', 'happy', 'disgust', 'calm', 'fearful', 'happy', 'calm', 'fearful', 'disgust', 'disgust', 'calm', 'calm', 'happy', 'happy', 'happy', 'fearful', 'disgust', 'calm', 'fearful', 'disgust', 'fearful', 'fearful', 'calm', 'fearful', 'disgust', 'fearful', 'fearful', 'calm', 'happy', 'fearful', 'happy', 'disgust', 'happy', 'fearful', 'calm', 'disgust', 'calm', 'fearful', 'happy', 'happy', 'fearful', 'fearful', 'happy', 'calm', 'happy', 'happy', 'disgust', 'happy', 'happy', 'fearful', 'calm', 'fearful', 'happy', 'happy', 'happy', 'fearful', 'disgust', 'disgust', 'fearful', 'disgust', 'disgust', 'fearful', 'disgust', 'happy', 'calm', 'fearful', 'disgust', 'disgust', 'happy', 'fearful', 'disgust', 'happy', 'calm', 'disgust', 'fearful', 'happy', 'happy', 'calm', 'disgust', 'calm', 'calm', 'fearful', 'fearful', 'happy', 'disgust', 'happy', 'calm', 'disgust', 'fearful', 'fearful', 'disgust', 'disgust', 'calm', 'happy', 'happy', 'fearful', 'happy', 'fearful', 'happy', 'fearful', 'disgust', 'fearful', 'disgust', 'calm', 'fearful', 'calm', 'happy', 'calm', 'calm', 'calm', 'fearful', 'calm', 'calm', 'happy', 'calm', 'calm', 'calm', 'disgust', 'fearful', 'fearful', 'happy', 'disgust', 'fearful', 'happy', 'calm', 'calm', 'fearful', 'calm', 'happy', 'disgust', 'happy', 'disgust', 'disgust', 'fearful', 'fearful', 'fearful', 'calm', 'fearful', 'fearful', 'calm', 'calm', 'disgust', 'happy', 'happy', 'fearful', 'happy', 'calm', 'calm', 'fearful', 'calm', 'fearful', 'fearful', 'happy', 'happy', 'fearful', 'happy', 'disgust', 'calm', 'fearful', 'disgust', 'calm', 'happy', 'fearful', 'fearful', 'happy', 'fearful', 'fearful', 'calm', 'happy', 'fearful', 'happy', 'disgust', 'calm', 'calm', 'happy', 'disgust', 'happy', 'happy', 'fearful', 'disgust', 'calm', 'calm', 'fearful', 'disgust', 'calm', 'disgust', 'fearful', 'calm', 'fearful', 'fearful', 'fearful', 'disgust', 'fearful', 'happy', 'happy', 'fearful', 'disgust', 'disgust', 'happy', 'happy', 'fearful', 'disgust', 'fearful', 'happy', 'fearful', 'calm', 'fearful', 'happy', 'calm', 'calm', 'disgust', 'fearful', 'fearful', 'happy', 'disgust', 'happy', 'disgust', 'disgust', 'disgust', 'happy', 'disgust', 'calm', 'disgust', 'fearful', 'fearful', 'happy', 'disgust', 'fearful', 'fearful', 'calm', 'disgust', 'disgust', 'fearful', 'disgust', 'disgust', 'disgust']\n",
      "['happy', 'calm', 'happy', 'happy', 'disgust', 'calm', 'happy', 'happy', 'disgust', 'happy', 'happy', 'disgust', 'happy', 'happy', 'disgust', 'fearful', 'calm', 'happy', 'disgust', 'disgust', 'calm', 'disgust', 'disgust', 'calm', 'happy', 'happy', 'disgust', 'disgust', 'calm', 'calm', 'happy', 'disgust', 'happy', 'fearful', 'fearful', 'calm', 'calm', 'fearful', 'calm', 'calm', 'happy', 'disgust', 'calm', 'calm', 'disgust', 'calm', 'disgust', 'happy', 'calm', 'happy', 'fearful', 'fearful', 'fearful', 'fearful', 'happy', 'fearful', 'disgust', 'happy', 'calm', 'calm', 'disgust', 'calm', 'disgust', 'calm', 'disgust', 'calm', 'calm', 'disgust', 'disgust', 'happy', 'fearful', 'fearful', 'fearful', 'fearful', 'fearful', 'disgust', 'fearful', 'happy', 'calm', 'fearful', 'disgust', 'calm', 'happy', 'calm', 'disgust', 'fearful', 'calm', 'happy', 'disgust', 'fearful', 'disgust', 'disgust', 'calm', 'fearful', 'disgust', 'fearful', 'calm', 'calm', 'calm', 'disgust', 'fearful', 'disgust', 'disgust', 'fearful', 'disgust', 'calm', 'disgust', 'happy', 'fearful', 'happy', 'happy', 'calm', 'calm', 'fearful', 'fearful', 'calm', 'calm', 'happy', 'calm', 'fearful', 'calm', 'happy', 'calm', 'happy', 'fearful', 'calm', 'disgust', 'fearful', 'calm', 'calm', 'fearful', 'happy', 'happy', 'disgust', 'disgust', 'happy', 'fearful', 'calm', 'disgust', 'disgust', 'calm', 'fearful', 'disgust', 'disgust', 'happy', 'fearful', 'fearful', 'disgust', 'happy', 'calm', 'happy', 'disgust', 'happy', 'calm', 'disgust', 'calm', 'calm', 'disgust', 'calm', 'calm', 'disgust', 'calm', 'happy', 'calm', 'calm', 'fearful', 'happy', 'happy', 'calm', 'happy', 'happy', 'happy', 'disgust', 'disgust', 'happy', 'fearful', 'calm', 'fearful', 'happy', 'happy', 'disgust', 'happy', 'calm', 'calm', 'calm', 'happy', 'happy', 'fearful', 'happy', 'happy', 'disgust', 'calm', 'disgust', 'fearful', 'calm', 'calm', 'fearful', 'fearful', 'disgust', 'calm', 'calm', 'happy', 'calm', 'disgust', 'fearful', 'disgust', 'fearful', 'disgust', 'happy', 'disgust', 'fearful', 'happy', 'happy', 'calm', 'fearful', 'disgust', 'calm', 'fearful', 'disgust', 'fearful', 'calm', 'calm', 'happy', 'fearful', 'calm', 'happy', 'fearful', 'calm', 'fearful', 'disgust', 'calm', 'disgust', 'happy', 'fearful', 'happy', 'fearful', 'calm', 'happy', 'happy', 'calm', 'fearful', 'disgust', 'disgust', 'disgust', 'calm', 'happy', 'calm', 'calm', 'calm', 'disgust', 'happy', 'disgust', 'happy', 'fearful', 'happy', 'disgust', 'happy', 'fearful', 'calm', 'happy', 'calm', 'happy', 'disgust', 'fearful', 'calm', 'calm', 'happy', 'fearful', 'calm', 'calm', 'happy', 'fearful', 'happy', 'calm', 'happy', 'fearful', 'happy', 'disgust', 'disgust', 'fearful', 'fearful', 'disgust', 'disgust', 'fearful', 'calm', 'calm', 'calm', 'fearful', 'happy', 'happy', 'calm', 'disgust', 'disgust', 'calm', 'disgust', 'fearful', 'happy', 'happy', 'disgust', 'calm', 'happy', 'disgust', 'fearful', 'calm', 'happy', 'disgust', 'disgust', 'fearful', 'fearful', 'calm', 'calm', 'happy', 'disgust', 'calm', 'fearful', 'happy', 'disgust', 'calm', 'calm', 'happy', 'fearful', 'disgust', 'happy', 'disgust', 'happy', 'calm', 'disgust', 'fearful', 'calm', 'happy', 'disgust', 'happy', 'calm', 'happy', 'disgust', 'fearful', 'happy', 'disgust', 'happy', 'happy', 'fearful', 'happy', 'disgust', 'fearful', 'calm', 'calm', 'disgust', 'calm', 'happy', 'disgust', 'happy', 'calm', 'happy', 'calm', 'disgust', 'fearful', 'happy', 'disgust', 'disgust', 'fearful', 'disgust', 'fearful', 'fearful', 'happy', 'happy', 'disgust', 'calm', 'fearful', 'calm', 'calm', 'fearful', 'happy', 'disgust', 'calm', 'disgust', 'fearful', 'fearful', 'disgust', 'disgust', 'calm', 'fearful', 'fearful', 'fearful', 'happy']\n",
      "(384, 384)\n",
      "Features extracted: 208\n"
     ]
    },
    {
     "name": "stdout",
     "output_type": "stream",
     "text": [
      "Accuracy: 65.89%\n"
     ]
    }
   ],
   "source": [
    "#Input file\n",
    "file = \"Actor_19\\\\03-01-04-02-02-01-19.wav\"\n",
    "\n",
    "feature = extract_feature(file, mfcc = True, chroma = True, mel = True)\n",
    "#split dataset\n",
    "x_train,x_test,y_train,y_test=load_data(test_size=0.5)\n",
    "\n",
    "print(x_train)\n",
    "print(x_test)\n",
    "print(y_train)\n",
    "print(y_test)\n",
    "    #DataFlair - Get the shape of the training and testing datasets\n",
    "print((x_train.shape[0], x_test.shape[0]))\n",
    "    \n",
    "    #DataFlair - Get the number of features extracted\n",
    "print(f'Features extracted: {x_train.shape[1]}')\n",
    "    \n",
    "    #DataFlair - Initialize the Multi Layer Perceptron Classifier\n",
    "model=MLPClassifier(alpha=0.01, batch_size=256, epsilon=1e-08, hidden_layer_sizes=(300,), learning_rate='adaptive', max_iter=500\n",
    "                       )\n",
    "\n",
    "    #DataFlair - Train the model\n",
    "model.fit(x_train,y_train)\n",
    "#prdiction\n",
    "y_pred = model.predict(x_test)\n",
    "\n",
    "y_pre = model.predict([feature])\n",
    "    #DataFlair - Calculate the accuracy of our model\n",
    "accuracy=accuracy_score(y_true=y_test, y_pred=y_pred)\n",
    "\n",
    "    #DataFlair - Print the accuracy\n",
    "print(\"Accuracy: {:.2f}%\".format(accuracy*100))\n",
    "\n",
    "#print(y_pred)\n",
    "#print(y_pre)\n",
    "time.sleep(2)"
   ]
  },
  {
   "cell_type": "code",
   "execution_count": 9,
   "metadata": {},
   "outputs": [],
   "source": [
    "import webbrowser\n",
    "if y_pre[0]==\"calm\":\n",
    "   webbrowser.open(\"https://www.youtube.com/watch?v=Mk7-GRWq7wA&list=PLsQujjGx2zbIRBlRt200nl7sfhQUEj2ON\")\n",
    "elif y_pre[0]==\"neutral\":\n",
    "   webbrowser.open(\"https://www.youtube.com/watch?v=WWCsGEarExg\")\n",
    "elif y_pre[0]==\"happy\":\n",
    "   webbrowser.open(\"https://www.youtube.com/watch?v=eJrl5Ofnp8Q\")\n",
    "elif y_pre[0]==\"sad\":\n",
    "   webbrowser.open(\"https://www.youtube.com/watch?v=xIEhVH7wQw4\")\n",
    "elif y_pre[0]==\"angry\":\n",
    "   webbrowser.open(\"https://www.youtube.com/watch?v=pkUmDi9hdT0\")\n",
    "elif y_pre[0]==\"fearful\":\n",
    "   webbrowser.open(\"https://www.youtube.com/watch?v=403FGqa-Uv8\")\n",
    "elif y_pre[0]==\"disgust\":\n",
    "   webbrowser.open(\"https://www.youtube.com/watch?v=YykjpeuMNEk\")\n",
    "else:\n",
    "   webbrowser.open(\"https://www.youtube.com/results?search_query=chainsmokers\")\n",
    "    "
   ]
  },
  {
   "cell_type": "code",
   "execution_count": null,
   "metadata": {},
   "outputs": [],
   "source": [
    "#data, sampling_rate = librosa.load('Actor_19\\\\03-01-04-02-02-01-19.wav')"
   ]
  },
  {
   "cell_type": "code",
   "execution_count": 29,
   "metadata": {},
   "outputs": [
    {
     "name": "stdout",
     "output_type": "stream",
     "text": [
      "Populating the interactive namespace from numpy and matplotlib\n"
     ]
    },
    {
     "data": {
      "text/plain": [
       "<matplotlib.collections.PolyCollection at 0x2530efe88b0>"
      ]
     },
     "execution_count": 29,
     "metadata": {},
     "output_type": "execute_result"
    },
    {
     "data": {
      "image/png": "[encoded data removed]",
      "text/plain": [
       "<Figure size 1080x360 with 1 Axes>"
      ]
     },
     "metadata": {
      "needs_background": "light"
     },
     "output_type": "display_data"
    }
   ],
   "source": [
    "%pylab inline\n",
    "\n",
    "import pandas as pd\n",
    "import librosa.display\n",
    " \n",
    "\n",
    "plt.figure(figsize=(15, 5))\n",
    "librosa.display.waveplot(data, sr=sampling_rate)"
   ]
  },
  {
   "cell_type": "code",
   "execution_count": null,
   "metadata": {},
   "outputs": [],
   "source": []
  }
 ],
 "metadata": {
  "kernelspec": {
   "display_name": "Python 3",
   "language": "python",
   "name": "python3"
  },
  "language_info": {
   "codemirror_mode": {
    "name": "ipython",
    "version": 3
   },
   "file_extension": ".py",
   "mimetype": "text/x-python",
   "name": "python",
   "nbconvert_exporter": "python",
   "pygments_lexer": "ipython3",
   "version": "3.8.5"
  }
 },
 "nbformat": 4,
 "nbformat_minor": 4
}
